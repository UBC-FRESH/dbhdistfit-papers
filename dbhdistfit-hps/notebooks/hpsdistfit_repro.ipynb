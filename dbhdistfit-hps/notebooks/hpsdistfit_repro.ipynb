{
 "cells": [
  {
   "cell_type": "markdown",
   "id": "b9b0fbe1",
   "metadata": {},
   "source": [
    "# HPS Diameter Distribution Reproducibility\n",
    "\n",
    "This notebook orchestrates the end-to-end reproduction of the horizontal point sampling (HPS) distribution fitting experiment. Run all cells to regenerate figures, tables, and inspect parameter fits.\n"
   ]
  },
  {
   "cell_type": "markdown",
   "id": "47c760e9",
   "metadata": {},
   "source": [
    "## 1. Environment Setup\n",
    "\n",
    "Install the project requirements if needed (skip inside managed environments).\n"
   ]
  },
  {
   "cell_type": "code",
   "execution_count": null,
   "id": "31934907",
   "metadata": {},
   "outputs": [],
   "source": [
    "!python -m pip install -r ../requirements.txt"
   ]
  },
  {
   "cell_type": "markdown",
   "id": "d78f60c4",
   "metadata": {},
   "source": [
    "## 2. Load Processed Dataset\n",
    "\n",
    "The notebook expects the pre-binned meta-plot dataset in `../data/processed/binned_meta_plots.parquet`.\n"
   ]
  },
  {
   "cell_type": "code",
   "execution_count": null,
   "id": "343e6e99",
   "metadata": {},
   "outputs": [],
   "source": [
    "from pathlib import Path\n",
    "import pandas as pd\n",
    "\n",
    "data_path = Path(\"../data/processed/binned_meta_plots.parquet\")\n",
    "if not data_path.exists():\n",
    "    raise FileNotFoundError(\"Processed dataset missing; run preprocessing to create it.\")\n",
    "\n",
    "binned = pd.read_parquet(data_path)\n",
    "binned.head()\n"
   ]
  },
  {
   "cell_type": "markdown",
   "id": "51b13556",
   "metadata": {},
   "source": [
    "## 3. Fit Distributions\n",
    "\n",
    "Compare the control (size-biased) and test (weighted) methods on each meta-plot.\n"
   ]
  },
  {
   "cell_type": "code",
   "execution_count": null,
   "id": "d4239a7a",
   "metadata": {},
   "outputs": [],
   "source": [
    "from scripts import fitting\n",
    "import pandas as pd\n",
    "\n",
    "results = []\n",
    "for (species, cover), df in binned.groupby([\"species_group\", \"cover_type\"]):\n",
    "    x = df[\"dbh_cm\"].to_numpy()\n",
    "    tally = df[\"tally\"].to_numpy()\n",
    "    for dist_name in (\"weibull\", \"gamma\"):\n",
    "        dispatch = fitting.method_dispatch(dist_name)\n",
    "        control = dispatch[\"control\"](x, tally)\n",
    "        test = dispatch[\"test\"](x, tally)\n",
    "        results.append({\n",
    "            \"species_group\": species,\n",
    "            \"cover_type\": cover,\n",
    "            \"distribution\": dist_name,\n",
    "            \"rss_control\": control.rss,\n",
    "            \"rss_test\": test.rss,\n",
    "        })\n",
    "\n",
    "summary = pd.DataFrame(results)\n",
    "summary\n"
   ]
  },
  {
   "cell_type": "markdown",
   "id": "f6012054",
   "metadata": {},
   "source": [
    "## 4. Regenerate Figures & Tables\n",
    "\n",
    "Call the command-line scripts to rebuild manuscript artefacts.\n"
   ]
  },
  {
   "cell_type": "code",
   "execution_count": null,
   "id": "6fdbf92c",
   "metadata": {},
   "outputs": [],
   "source": [
    "!python ../scripts/generate_figures.py --config ../config/figures.yml"
   ]
  },
  {
   "cell_type": "code",
   "execution_count": null,
   "id": "47c9be01",
   "metadata": {},
   "outputs": [],
   "source": [
    "!python ../scripts/generate_tables.py --config ../config/tables.yml"
   ]
  }
 ],
 "metadata": {
  "kernelspec": {
   "display_name": "Python 3",
   "language": "python",
   "name": "python3"
  },
  "language_info": {
   "name": "python",
   "version": "3.11"
  }
 },
 "nbformat": 4,
 "nbformat_minor": 5
}
